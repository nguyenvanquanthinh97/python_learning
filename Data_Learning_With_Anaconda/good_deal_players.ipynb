{
 "cells": [
  {
   "cell_type": "code",
   "execution_count": 12,
   "id": "88192707-c65b-4519-ad43-6e5b9e1a6375",
   "metadata": {},
   "outputs": [],
   "source": [
    "import pandas as pd"
   ]
  },
  {
   "cell_type": "code",
   "execution_count": 17,
   "id": "ea59fa1c-9d28-4186-af94-42e6bd5411ca",
   "metadata": {},
   "outputs": [],
   "source": [
    "df = pd.read_csv(\"data.csv\")"
   ]
  },
  {
   "cell_type": "code",
   "execution_count": 18,
   "id": "2aec9ff8-713e-4e58-b705-169f370e4a67",
   "metadata": {},
   "outputs": [],
   "source": [
    "df1 = pd.DataFrame(df, columns=[\"long_name\", \"short_name\", \"age\", \"wage_eur\", \"value_eur\"])"
   ]
  },
  {
   "cell_type": "code",
   "execution_count": 20,
   "id": "59fd7413-a479-4820-8cbd-320e00d9c1e6",
   "metadata": {},
   "outputs": [],
   "source": [
    "df1['difference'] = df1['value_eur'] - df1['wage_eur']"
   ]
  },
  {
   "cell_type": "code",
   "execution_count": 22,
   "id": "0a6ebb39-6bca-428a-b8ba-79efbbc387e2",
   "metadata": {},
   "outputs": [
    {
     "data": {
      "text/html": [
       "<div>\n",
       "<style scoped>\n",
       "    .dataframe tbody tr th:only-of-type {\n",
       "        vertical-align: middle;\n",
       "    }\n",
       "\n",
       "    .dataframe tbody tr th {\n",
       "        vertical-align: top;\n",
       "    }\n",
       "\n",
       "    .dataframe thead th {\n",
       "        text-align: right;\n",
       "    }\n",
       "</style>\n",
       "<table border=\"1\" class=\"dataframe\">\n",
       "  <thead>\n",
       "    <tr style=\"text-align: right;\">\n",
       "      <th></th>\n",
       "      <th>long_name</th>\n",
       "      <th>short_name</th>\n",
       "      <th>age</th>\n",
       "      <th>wage_eur</th>\n",
       "      <th>value_eur</th>\n",
       "      <th>difference</th>\n",
       "    </tr>\n",
       "  </thead>\n",
       "  <tbody>\n",
       "    <tr>\n",
       "      <th>2</th>\n",
       "      <td>Neymar da Silva Santos Junior</td>\n",
       "      <td>Neymar Jr</td>\n",
       "      <td>27</td>\n",
       "      <td>290000</td>\n",
       "      <td>105500000</td>\n",
       "      <td>105210000</td>\n",
       "    </tr>\n",
       "    <tr>\n",
       "      <th>0</th>\n",
       "      <td>Lionel Andrés Messi Cuccittini</td>\n",
       "      <td>L. Messi</td>\n",
       "      <td>32</td>\n",
       "      <td>565000</td>\n",
       "      <td>95500000</td>\n",
       "      <td>94935000</td>\n",
       "    </tr>\n",
       "    <tr>\n",
       "      <th>10</th>\n",
       "      <td>Kylian Mbappé</td>\n",
       "      <td>K. Mbappé</td>\n",
       "      <td>20</td>\n",
       "      <td>155000</td>\n",
       "      <td>93500000</td>\n",
       "      <td>93345000</td>\n",
       "    </tr>\n",
       "    <tr>\n",
       "      <th>5</th>\n",
       "      <td>Kevin De Bruyne</td>\n",
       "      <td>K. De Bruyne</td>\n",
       "      <td>28</td>\n",
       "      <td>370000</td>\n",
       "      <td>90000000</td>\n",
       "      <td>89630000</td>\n",
       "    </tr>\n",
       "    <tr>\n",
       "      <th>4</th>\n",
       "      <td>Eden Hazard</td>\n",
       "      <td>E. Hazard</td>\n",
       "      <td>28</td>\n",
       "      <td>470000</td>\n",
       "      <td>90000000</td>\n",
       "      <td>89530000</td>\n",
       "    </tr>\n",
       "    <tr>\n",
       "      <th>...</th>\n",
       "      <td>...</td>\n",
       "      <td>...</td>\n",
       "      <td>...</td>\n",
       "      <td>...</td>\n",
       "      <td>...</td>\n",
       "      <td>...</td>\n",
       "    </tr>\n",
       "    <tr>\n",
       "      <th>8359</th>\n",
       "      <td>Fabián Alberto Cubero</td>\n",
       "      <td>F. Cubero</td>\n",
       "      <td>40</td>\n",
       "      <td>3000</td>\n",
       "      <td>0</td>\n",
       "      <td>-3000</td>\n",
       "    </tr>\n",
       "    <tr>\n",
       "      <th>7230</th>\n",
       "      <td>이동국 李东国</td>\n",
       "      <td>Lee Dong Gook</td>\n",
       "      <td>40</td>\n",
       "      <td>4000</td>\n",
       "      <td>0</td>\n",
       "      <td>-4000</td>\n",
       "    </tr>\n",
       "    <tr>\n",
       "      <th>13003</th>\n",
       "      <td>Hussein Omar Abdul Ghani Sulaimani</td>\n",
       "      <td>H. Sulaimani</td>\n",
       "      <td>42</td>\n",
       "      <td>5000</td>\n",
       "      <td>0</td>\n",
       "      <td>-5000</td>\n",
       "    </tr>\n",
       "    <tr>\n",
       "      <th>1880</th>\n",
       "      <td>Claudio Miguel Pizarro Bossio</td>\n",
       "      <td>C. Pizarro</td>\n",
       "      <td>40</td>\n",
       "      <td>20000</td>\n",
       "      <td>0</td>\n",
       "      <td>-20000</td>\n",
       "    </tr>\n",
       "    <tr>\n",
       "      <th>868</th>\n",
       "      <td>Vitorino Hilton da Silva</td>\n",
       "      <td>Hilton</td>\n",
       "      <td>41</td>\n",
       "      <td>21000</td>\n",
       "      <td>0</td>\n",
       "      <td>-21000</td>\n",
       "    </tr>\n",
       "  </tbody>\n",
       "</table>\n",
       "<p>18278 rows × 6 columns</p>\n",
       "</div>"
      ],
      "text/plain": [
       "                                long_name     short_name  age  wage_eur  \\\n",
       "2           Neymar da Silva Santos Junior      Neymar Jr   27    290000   \n",
       "0          Lionel Andrés Messi Cuccittini       L. Messi   32    565000   \n",
       "10                          Kylian Mbappé      K. Mbappé   20    155000   \n",
       "5                         Kevin De Bruyne   K. De Bruyne   28    370000   \n",
       "4                             Eden Hazard      E. Hazard   28    470000   \n",
       "...                                   ...            ...  ...       ...   \n",
       "8359                Fabián Alberto Cubero      F. Cubero   40      3000   \n",
       "7230                              이동국 李东国  Lee Dong Gook   40      4000   \n",
       "13003  Hussein Omar Abdul Ghani Sulaimani   H. Sulaimani   42      5000   \n",
       "1880        Claudio Miguel Pizarro Bossio     C. Pizarro   40     20000   \n",
       "868              Vitorino Hilton da Silva         Hilton   41     21000   \n",
       "\n",
       "       value_eur  difference  \n",
       "2      105500000   105210000  \n",
       "0       95500000    94935000  \n",
       "10      93500000    93345000  \n",
       "5       90000000    89630000  \n",
       "4       90000000    89530000  \n",
       "...          ...         ...  \n",
       "8359           0       -3000  \n",
       "7230           0       -4000  \n",
       "13003          0       -5000  \n",
       "1880           0      -20000  \n",
       "868            0      -21000  \n",
       "\n",
       "[18278 rows x 6 columns]"
      ]
     },
     "execution_count": 22,
     "metadata": {},
     "output_type": "execute_result"
    }
   ],
   "source": [
    "df1.sort_values(by=\"difference\", ascending = False)"
   ]
  },
  {
   "cell_type": "code",
   "execution_count": 24,
   "id": "58a5fd88-4843-4177-9b52-1dd5e29db89a",
   "metadata": {},
   "outputs": [
    {
     "data": {
      "text/plain": [
       "<AxesSubplot:xlabel='wage_eur', ylabel='value_eur'>"
      ]
     },
     "execution_count": 24,
     "metadata": {},
     "output_type": "execute_result"
    },
    {
     "data": {
      "image/png": "[encoded data removed]",
      "text/plain": [
       "<Figure size 432x288 with 1 Axes>"
      ]
     },
     "metadata": {},
     "output_type": "display_data"
    }
   ],
   "source": [
    "import seaborn as sns\n",
    "sns.set_theme()\n",
    "\n",
    "graph = sns.scatterplot(x=\"wage_eur\", y = \"value_eur\", data=df1)\n",
    "graph"
   ]
  },
  {
   "cell_type": "code",
   "execution_count": 27,
   "id": "9d3c659c-35a8-4446-aa30-6c5a7bfe70e5",
   "metadata": {},
   "outputs": [],
   "source": [
    "from bokeh.plotting import figure, show\n",
    "from bokeh.models import HoverTool\n",
    "\n",
    "hover = HoverTool(tooltips=[\n",
    "    ('index', '@index'),\n",
    "    ('(wage_eur,value_eur)','(@wage_eur,@value_eur)'),\n",
    "    ('short_name', '@short_name')\n",
    "])\n",
    "\n",
    "p = figure(title='soccer 2020', x_axis_label='wage_eur', y_axis_label='value_eur', plot_width=700, plot_height=700, tools=[hover])\n",
    "p.circle('wage_eur','value_eur', size=10, source=df1)\n",
    "show(p)"
   ]
  },
  {
   "cell_type": "code",
   "execution_count": null,
   "id": "d78c0326-cc6a-4eba-8c7c-7f0151d8dc25",
   "metadata": {},
   "outputs": [],
   "source": []
  }
 ],
 "metadata": {
  "kernelspec": {
   "display_name": "Python 3 (ipykernel)",
   "language": "python",
   "name": "python3"
  },
  "language_info": {
   "codemirror_mode": {
    "name": "ipython",
    "version": 3
   },
   "file_extension": ".py",
   "mimetype": "text/x-python",
   "name": "python",
   "nbconvert_exporter": "python",
   "pygments_lexer": "ipython3",
   "version": "3.9.12"
  }
 },
 "nbformat": 4,
 "nbformat_minor": 5
}
